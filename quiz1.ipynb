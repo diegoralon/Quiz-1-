{
 "cells": [
  {
   "cell_type": "markdown",
   "id": "narrative-liver",
   "metadata": {},
   "source": [
    "## Transformaciones Inciales"
   ]
  },
  {
   "cell_type": "code",
   "execution_count": 5,
   "id": "adult-dimension",
   "metadata": {
    "collapsed": true,
    "jupyter": {
     "outputs_hidden": true
    },
    "tags": []
   },
   "outputs": [
    {
     "name": "stdout",
     "output_type": "stream",
     "text": [
      "Requirement already satisfied: pandas in ./venv/lib/python3.7/site-packages (1.2.3)\n",
      "Requirement already satisfied: pytz>=2017.3 in ./venv/lib/python3.7/site-packages (from pandas) (2021.1)\n",
      "Requirement already satisfied: python-dateutil>=2.7.3 in ./venv/lib/python3.7/site-packages (from pandas) (2.8.1)\n",
      "Requirement already satisfied: numpy>=1.16.5 in ./venv/lib/python3.7/site-packages (from pandas) (1.20.1)\n",
      "Requirement already satisfied: six>=1.5 in ./venv/lib/python3.7/site-packages (from python-dateutil>=2.7.3->pandas) (1.15.0)\n",
      "Note: you may need to restart the kernel to use updated packages.\n"
     ]
    }
   ],
   "source": [
    "pip install pandas\n"
   ]
  },
  {
   "cell_type": "code",
   "execution_count": 4,
   "id": "steady-hayes",
   "metadata": {
    "collapsed": true,
    "jupyter": {
     "outputs_hidden": true
    },
    "tags": []
   },
   "outputs": [
    {
     "name": "stdout",
     "output_type": "stream",
     "text": [
      "Collecting matplotlib\n",
      "  Using cached matplotlib-3.3.4-cp37-cp37m-macosx_10_9_x86_64.whl (8.5 MB)\n",
      "Collecting kiwisolver>=1.0.1\n",
      "  Using cached kiwisolver-1.3.1-cp37-cp37m-macosx_10_9_x86_64.whl (61 kB)\n",
      "Requirement already satisfied: python-dateutil>=2.1 in ./venv/lib/python3.7/site-packages (from matplotlib) (2.8.1)\n",
      "Collecting cycler>=0.10\n",
      "  Using cached cycler-0.10.0-py2.py3-none-any.whl (6.5 kB)\n",
      "Collecting pillow>=6.2.0\n",
      "  Using cached Pillow-8.1.2-cp37-cp37m-macosx_10_10_x86_64.whl (2.2 MB)\n",
      "Requirement already satisfied: pyparsing!=2.0.4,!=2.1.2,!=2.1.6,>=2.0.3 in ./venv/lib/python3.7/site-packages (from matplotlib) (2.4.7)\n",
      "Requirement already satisfied: numpy>=1.15 in ./venv/lib/python3.7/site-packages (from matplotlib) (1.20.1)\n",
      "Requirement already satisfied: six in ./venv/lib/python3.7/site-packages (from cycler>=0.10->matplotlib) (1.15.0)\n",
      "Installing collected packages: pillow, kiwisolver, cycler, matplotlib\n",
      "Successfully installed cycler-0.10.0 kiwisolver-1.3.1 matplotlib-3.3.4 pillow-8.1.2\n",
      "Note: you may need to restart the kernel to use updated packages.\n"
     ]
    }
   ],
   "source": [
    "pip install matplotlib"
   ]
  },
  {
   "cell_type": "code",
   "execution_count": 188,
   "id": "representative-plastic",
   "metadata": {},
   "outputs": [],
   "source": [
    "import pandas as pd \n",
    "import numpy as np"
   ]
  },
  {
   "cell_type": "code",
   "execution_count": 189,
   "id": "timely-handle",
   "metadata": {},
   "outputs": [],
   "source": [
    "df = pd.read_csv('dat.csv')"
   ]
  },
  {
   "cell_type": "code",
   "execution_count": 190,
   "id": "reflected-treasury",
   "metadata": {},
   "outputs": [
    {
     "data": {
      "text/html": [
       "<div>\n",
       "<style scoped>\n",
       "    .dataframe tbody tr th:only-of-type {\n",
       "        vertical-align: middle;\n",
       "    }\n",
       "\n",
       "    .dataframe tbody tr th {\n",
       "        vertical-align: top;\n",
       "    }\n",
       "\n",
       "    .dataframe thead th {\n",
       "        text-align: right;\n",
       "    }\n",
       "</style>\n",
       "<table border=\"1\" class=\"dataframe\">\n",
       "  <thead>\n",
       "    <tr style=\"text-align: right;\">\n",
       "      <th></th>\n",
       "      <th>0.9317189805776385</th>\n",
       "      <th>50.94283197947629</th>\n",
       "      <th>2596.040230347921</th>\n",
       "    </tr>\n",
       "  </thead>\n",
       "  <tbody>\n",
       "    <tr>\n",
       "      <th>0</th>\n",
       "      <td>0.796997</td>\n",
       "      <td>50.312938</td>\n",
       "      <td>2532.026902</td>\n",
       "    </tr>\n",
       "    <tr>\n",
       "      <th>1</th>\n",
       "      <td>1.115603</td>\n",
       "      <td>50.156194</td>\n",
       "      <td>2516.888332</td>\n",
       "    </tr>\n",
       "    <tr>\n",
       "      <th>2</th>\n",
       "      <td>1.064629</td>\n",
       "      <td>50.774814</td>\n",
       "      <td>2579.215190</td>\n",
       "    </tr>\n",
       "  </tbody>\n",
       "</table>\n",
       "</div>"
      ],
      "text/plain": [
       "   0.9317189805776385   50.94283197947629   2596.040230347921\n",
       "0            0.796997           50.312938         2532.026902\n",
       "1            1.115603           50.156194         2516.888332\n",
       "2            1.064629           50.774814         2579.215190"
      ]
     },
     "execution_count": 190,
     "metadata": {},
     "output_type": "execute_result"
    }
   ],
   "source": [
    "df.head(3)"
   ]
  },
  {
   "cell_type": "code",
   "execution_count": 191,
   "id": "sitting-gauge",
   "metadata": {},
   "outputs": [
    {
     "data": {
      "text/plain": [
       "Index(['0.9317189805776385', ' 50.94283197947629', ' 2596.040230347921'], dtype='object')"
      ]
     },
     "execution_count": 191,
     "metadata": {},
     "output_type": "execute_result"
    }
   ],
   "source": [
    "df.columns"
   ]
  },
  {
   "cell_type": "code",
   "execution_count": 192,
   "id": "musical-sitting",
   "metadata": {},
   "outputs": [],
   "source": [
    "y = df[[' 2596.040230347921']].to_numpy()"
   ]
  },
  {
   "cell_type": "code",
   "execution_count": 193,
   "id": "australian-mineral",
   "metadata": {},
   "outputs": [],
   "source": [
    "df['cons'] = 1"
   ]
  },
  {
   "cell_type": "code",
   "execution_count": 194,
   "id": "protected-penalty",
   "metadata": {},
   "outputs": [],
   "source": [
    "X = df[['cons','0.9317189805776385', ' 50.94283197947629']].to_numpy()"
   ]
  },
  {
   "cell_type": "code",
   "execution_count": 195,
   "id": "hungarian-independence",
   "metadata": {},
   "outputs": [
    {
     "name": "stdout",
     "output_type": "stream",
     "text": [
      "(159999, 1) (159999, 3)\n"
     ]
    }
   ],
   "source": [
    "print(y.shape,X.shape)"
   ]
  },
  {
   "cell_type": "markdown",
   "id": "united-suite",
   "metadata": {},
   "source": [
    "# Creando Funciones de Costo"
   ]
  },
  {
   "cell_type": "code",
   "execution_count": 196,
   "id": "casual-calculation",
   "metadata": {},
   "outputs": [],
   "source": [
    "def linear_cost(X, y, theta): \n",
    "    h = X @ theta\n",
    "    return ((y-h)**2).sum() / (2 * len(X)) "
   ]
  },
  {
   "cell_type": "code",
   "execution_count": 197,
   "id": "reported-invalid",
   "metadata": {},
   "outputs": [],
   "source": [
    "def linear_cost_gradient(X, y, theta, lambda_p = 10): \n",
    "    h = X @ theta\n",
    "    lambda_f = (lambda_p/(2*len(X))) * (theta**2).sum()\n",
    "    return (X.T @ (h-y))/ len(X) + lambda_f"
   ]
  },
  {
   "cell_type": "code",
   "execution_count": 198,
   "id": "essential-point",
   "metadata": {},
   "outputs": [],
   "source": [
    "def gradient_descent(\n",
    "X,y,theta_0,linear_cost,linear_cost_gradient,\n",
    "    learning_rate = 0.0001, threshold=0.001, max_iter=10000,lambda_p = 10): \n",
    "    \n",
    "    theta = theta_0\n",
    "    iteration = 0 \n",
    "    costs = []\n",
    "    thetas = []\n",
    "    \n",
    "    while np.linalg.norm(linear_cost_gradient(X,y,theta)) > threshold and iteration < max_iter:\n",
    "        iteration += 1 \n",
    "        theta = theta - (learning_rate * linear_cost_gradient(X,y,theta) + lambda_p * theta)\n",
    "        costs.append(linear_cost(X,y,theta))\n",
    "        thetas.append(theta.copy())\n",
    "        \n",
    "    return theta, costs, thetas"
   ]
  },
  {
   "cell_type": "markdown",
   "id": "intelligent-franchise",
   "metadata": {},
   "source": [
    "## Thetas iniciales"
   ]
  },
  {
   "cell_type": "code",
   "execution_count": 199,
   "id": "mexican-princess",
   "metadata": {},
   "outputs": [],
   "source": [
    "m, n = X.shape"
   ]
  },
  {
   "cell_type": "code",
   "execution_count": 200,
   "id": "finite-denial",
   "metadata": {},
   "outputs": [],
   "source": [
    "theta_0 = np.random.rand(n,1)"
   ]
  },
  {
   "cell_type": "code",
   "execution_count": 201,
   "id": "elder-infrastructure",
   "metadata": {},
   "outputs": [
    {
     "name": "stdout",
     "output_type": "stream",
     "text": [
      "(3, 1)\n"
     ]
    }
   ],
   "source": [
    "print(theta_0.shape)"
   ]
  },
  {
   "cell_type": "markdown",
   "id": "worldwide-vietnam",
   "metadata": {},
   "source": [
    "## Shuffle Inicial "
   ]
  },
  {
   "cell_type": "code",
   "execution_count": 202,
   "id": "wicked-international",
   "metadata": {},
   "outputs": [],
   "source": [
    "np.random.shuffle(X)"
   ]
  },
  {
   "cell_type": "code",
   "execution_count": 203,
   "id": "failing-virgin",
   "metadata": {},
   "outputs": [],
   "source": [
    "np.random.shuffle(y)"
   ]
  },
  {
   "cell_type": "code",
   "execution_count": 204,
   "id": "serial-mailing",
   "metadata": {},
   "outputs": [],
   "source": [
    "X_train = X[:96000]\n",
    "X_cv = X[96001:128000]\n",
    "X_test = X[128001:159999]"
   ]
  },
  {
   "cell_type": "code",
   "execution_count": 205,
   "id": "coupled-immigration",
   "metadata": {},
   "outputs": [
    {
     "name": "stdout",
     "output_type": "stream",
     "text": [
      "(96000, 3) (31999, 3) (31998, 3)\n"
     ]
    }
   ],
   "source": [
    "print(X_train.shape,X_cv.shape,X_test.shape)"
   ]
  },
  {
   "cell_type": "code",
   "execution_count": 206,
   "id": "frank-workplace",
   "metadata": {},
   "outputs": [],
   "source": [
    "y_train = y[:96000]\n",
    "y_cv = y[96001:128000]\n",
    "y_test = y[128001:159999]"
   ]
  },
  {
   "cell_type": "code",
   "execution_count": 207,
   "id": "actual-office",
   "metadata": {},
   "outputs": [
    {
     "name": "stdout",
     "output_type": "stream",
     "text": [
      "(96000, 1) (31999, 1) (31998, 1)\n"
     ]
    }
   ],
   "source": [
    "print(y_train.shape,y_cv.shape,y_test.shape)"
   ]
  },
  {
   "cell_type": "markdown",
   "id": "pending-catholic",
   "metadata": {},
   "source": [
    "# Corriendo regresión Polinomio Grado 1"
   ]
  },
  {
   "cell_type": "code",
   "execution_count": 208,
   "id": "persistent-block",
   "metadata": {},
   "outputs": [],
   "source": [
    "theta, costs, thetas = gradient_descent(X_train,y_train,theta_0,linear_cost,linear_cost_gradient,0.0000001,0.001,10000,2)"
   ]
  },
  {
   "cell_type": "code",
   "execution_count": 209,
   "id": "applied-cooper",
   "metadata": {},
   "outputs": [
    {
     "data": {
      "text/plain": [
       "10000"
      ]
     },
     "execution_count": 209,
     "metadata": {},
     "output_type": "execute_result"
    }
   ],
   "source": [
    "len(costs)"
   ]
  },
  {
   "cell_type": "code",
   "execution_count": 210,
   "id": "printable-swift",
   "metadata": {},
   "outputs": [
    {
     "name": "stdout",
     "output_type": "stream",
     "text": [
      "8.894738081096136e+20\n"
     ]
    }
   ],
   "source": [
    "print(costs[len(costs)-1])"
   ]
  },
  {
   "cell_type": "markdown",
   "id": "pursuant-lebanon",
   "metadata": {},
   "source": [
    "El costo es pequeño en esta regresión pero comprobaremos con una regresión grado 3 en base a nuestra primera fila. Este es el mejor modelo que logramos encontrar en un polinomio de grado 1 con una regulariazión de 2 de labda tenemos un costo bastante bajo, sin embargo si reducimos el lambda a 0 nuestro costo aumenta considerablemente. por lo que tratare de hacer la regresión con un polinomio de grado 3. Ya que con un lambda de 0 podemos decir que teniamos bastante varianza en el modelo y solo regularizando los thetas pudimos obtener un modelo just right si lo vemos de esta manera."
   ]
  },
  {
   "cell_type": "markdown",
   "id": "north-romantic",
   "metadata": {},
   "source": [
    "## Corriendo regresión Polinomio Grado 3"
   ]
  },
  {
   "cell_type": "code",
   "execution_count": 211,
   "id": "strategic-smile",
   "metadata": {},
   "outputs": [],
   "source": [
    "df['0.9317189805776385_2'] = df['0.9317189805776385'] ** 2\n",
    "df['0.9317189805776385_3'] = df['0.9317189805776385'] ** 3"
   ]
  },
  {
   "cell_type": "code",
   "execution_count": 212,
   "id": "naked-lesson",
   "metadata": {},
   "outputs": [],
   "source": [
    "y2 = df[[' 2596.040230347921']].to_numpy()\n",
    "X2 = df[['cons','0.9317189805776385','0.9317189805776385_2', '0.9317189805776385_3',' 50.94283197947629']].to_numpy()"
   ]
  },
  {
   "cell_type": "code",
   "execution_count": 213,
   "id": "partial-queen",
   "metadata": {},
   "outputs": [
    {
     "name": "stdout",
     "output_type": "stream",
     "text": [
      "(159999, 1) (159999, 5)\n"
     ]
    }
   ],
   "source": [
    "print(y2.shape,X2.shape)"
   ]
  },
  {
   "cell_type": "code",
   "execution_count": 214,
   "id": "cultural-reporter",
   "metadata": {},
   "outputs": [],
   "source": [
    "m, n = X2.shape"
   ]
  },
  {
   "cell_type": "code",
   "execution_count": 215,
   "id": "hispanic-match",
   "metadata": {},
   "outputs": [],
   "source": [
    "theta_0_2 = np.random.rand(n,1)"
   ]
  },
  {
   "cell_type": "code",
   "execution_count": 216,
   "id": "superior-numbers",
   "metadata": {},
   "outputs": [
    {
     "name": "stdout",
     "output_type": "stream",
     "text": [
      "(5, 1)\n"
     ]
    }
   ],
   "source": [
    "print(theta_0_2.shape)"
   ]
  },
  {
   "cell_type": "code",
   "execution_count": 217,
   "id": "charged-checkout",
   "metadata": {},
   "outputs": [],
   "source": [
    "np.random.shuffle(X2)\n",
    "np.random.shuffle(y2)"
   ]
  },
  {
   "cell_type": "code",
   "execution_count": 218,
   "id": "agricultural-greene",
   "metadata": {},
   "outputs": [],
   "source": [
    "X2_train = X2[:96000]\n",
    "X2_cv = X2[96001:128000]\n",
    "X2_test = X2[128001:159999]\n",
    "y2_train = y2[:96000]\n",
    "y2_cv = y2[96001:128000]\n",
    "y2_test = y2[128001:159999]"
   ]
  },
  {
   "cell_type": "code",
   "execution_count": 219,
   "id": "dressed-munich",
   "metadata": {},
   "outputs": [
    {
     "name": "stdout",
     "output_type": "stream",
     "text": [
      "(96000, 5) (31999, 5) (31998, 5)\n"
     ]
    }
   ],
   "source": [
    "print(X2_train.shape,X2_cv.shape,X2_test.shape)"
   ]
  },
  {
   "cell_type": "code",
   "execution_count": 220,
   "id": "lyric-event",
   "metadata": {},
   "outputs": [
    {
     "name": "stdout",
     "output_type": "stream",
     "text": [
      "(96000, 1) (31999, 1) (31998, 1)\n"
     ]
    }
   ],
   "source": [
    "print(y2_train.shape,y2_cv.shape,y2_test.shape)"
   ]
  },
  {
   "cell_type": "code",
   "execution_count": 221,
   "id": "amazing-conclusion",
   "metadata": {},
   "outputs": [],
   "source": [
    "theta2, costs2, thetas2 = gradient_descent(X2_train,y2_train,theta_0_2,linear_cost,linear_cost_gradient,0.00000000000001,0.001,10000,2)"
   ]
  },
  {
   "cell_type": "code",
   "execution_count": 222,
   "id": "serious-scottish",
   "metadata": {},
   "outputs": [
    {
     "data": {
      "text/plain": [
       "10000"
      ]
     },
     "execution_count": 222,
     "metadata": {},
     "output_type": "execute_result"
    }
   ],
   "source": [
    "len(costs2)"
   ]
  },
  {
   "cell_type": "code",
   "execution_count": 223,
   "id": "english-conversation",
   "metadata": {},
   "outputs": [
    {
     "name": "stdout",
     "output_type": "stream",
     "text": [
      "1.8870741626530675e+23\n"
     ]
    }
   ],
   "source": [
    "print(costs2[len(costs2)-1])"
   ]
  },
  {
   "cell_type": "markdown",
   "id": "national-schedule",
   "metadata": {},
   "source": [
    "Como podemos observar nuestro costo es muy cercano a 0 en una regresión polinomial de grado 3 y con un regularizador de 2. Este podriamos decir que es un buen modelo a simple vista pero debemos de analizar como queda un modelo de grado 2. para ver si no es un mejor modelo y este valor bajo solo lleve a que este valor suba."
   ]
  },
  {
   "cell_type": "markdown",
   "id": "handled-angola",
   "metadata": {},
   "source": [
    "# Corriendo Regresión de grado 2"
   ]
  },
  {
   "cell_type": "code",
   "execution_count": 224,
   "id": "intermediate-tenant",
   "metadata": {},
   "outputs": [],
   "source": [
    "y3 = df[[' 2596.040230347921']].to_numpy()\n",
    "X3 = df[['cons','0.9317189805776385','0.9317189805776385_2', ' 50.94283197947629']].to_numpy()"
   ]
  },
  {
   "cell_type": "code",
   "execution_count": 225,
   "id": "armed-immune",
   "metadata": {},
   "outputs": [
    {
     "name": "stdout",
     "output_type": "stream",
     "text": [
      "(159999, 1) (159999, 4)\n"
     ]
    }
   ],
   "source": [
    "print(y3.shape,X3.shape)"
   ]
  },
  {
   "cell_type": "code",
   "execution_count": 226,
   "id": "pharmaceutical-parish",
   "metadata": {},
   "outputs": [],
   "source": [
    "m, n = X3.shape"
   ]
  },
  {
   "cell_type": "code",
   "execution_count": 227,
   "id": "taken-spirituality",
   "metadata": {},
   "outputs": [],
   "source": [
    "theta_0_3 = np.random.rand(n,1)"
   ]
  },
  {
   "cell_type": "code",
   "execution_count": 228,
   "id": "popular-recipe",
   "metadata": {},
   "outputs": [
    {
     "name": "stdout",
     "output_type": "stream",
     "text": [
      "(4, 1)\n"
     ]
    }
   ],
   "source": [
    "print(theta_0_3.shape)"
   ]
  },
  {
   "cell_type": "code",
   "execution_count": 229,
   "id": "pleased-attack",
   "metadata": {},
   "outputs": [],
   "source": [
    "np.random.shuffle(X3)\n",
    "np.random.shuffle(y3)"
   ]
  },
  {
   "cell_type": "code",
   "execution_count": 230,
   "id": "wooden-lighting",
   "metadata": {},
   "outputs": [],
   "source": [
    "X3_train = X3[:96000]\n",
    "X3_cv = X3[96001:128000]\n",
    "X3_test = X3[128001:159999]\n",
    "y3_train = y3[:96000]\n",
    "y3_cv = y3[96001:128000]\n",
    "y3_test = y3[128001:159999]"
   ]
  },
  {
   "cell_type": "code",
   "execution_count": 231,
   "id": "simplified-official",
   "metadata": {},
   "outputs": [
    {
     "name": "stdout",
     "output_type": "stream",
     "text": [
      "(96000, 4) (31999, 4) (31998, 4)\n"
     ]
    }
   ],
   "source": [
    "print(X3_train.shape,X3_cv.shape,X3_test.shape)"
   ]
  },
  {
   "cell_type": "code",
   "execution_count": 232,
   "id": "unknown-latter",
   "metadata": {},
   "outputs": [
    {
     "name": "stdout",
     "output_type": "stream",
     "text": [
      "(96000, 1) (31999, 1) (31998, 1)\n"
     ]
    }
   ],
   "source": [
    "print(y3_train.shape,y3_cv.shape,y3_test.shape)"
   ]
  },
  {
   "cell_type": "code",
   "execution_count": 233,
   "id": "persistent-indiana",
   "metadata": {},
   "outputs": [],
   "source": [
    "theta3, costs3, thetas3 = gradient_descent(X3_train,y3_train,theta_0_3,linear_cost,linear_cost_gradient,0.0000000001,0.001,10000,2)"
   ]
  },
  {
   "cell_type": "code",
   "execution_count": 234,
   "id": "moved-employment",
   "metadata": {},
   "outputs": [
    {
     "data": {
      "text/plain": [
       "10000"
      ]
     },
     "execution_count": 234,
     "metadata": {},
     "output_type": "execute_result"
    }
   ],
   "source": [
    "len(costs3)"
   ]
  },
  {
   "cell_type": "code",
   "execution_count": 235,
   "id": "aging-stocks",
   "metadata": {},
   "outputs": [
    {
     "name": "stdout",
     "output_type": "stream",
     "text": [
      "6.909701847864607e+24\n"
     ]
    }
   ],
   "source": [
    "print(costs3[len(costs3)-1])"
   ]
  },
  {
   "cell_type": "markdown",
   "id": "bizarre-thought",
   "metadata": {},
   "source": [
    "Nos damos cuenta que con una regresión de grado 2 y con dos puntos de regularización llegamos a tener un costo menor al de grado 1 pero no menor al de grado 3. por lo tanto considerando por estas primeras pruebas realizaramos los análsisi de cross validation para el polinomio de grado 3. con un regularizador de 2. "
   ]
  },
  {
   "cell_type": "markdown",
   "id": "divine-scientist",
   "metadata": {},
   "source": [
    "## Cross Validation Polinomio Grado 3"
   ]
  },
  {
   "cell_type": "code",
   "execution_count": 237,
   "id": "joint-resistance",
   "metadata": {},
   "outputs": [],
   "source": [
    "cv_cost = linear_cost(X2_cv,y2_cv, theta2)"
   ]
  },
  {
   "cell_type": "code",
   "execution_count": 238,
   "id": "incoming-nelson",
   "metadata": {},
   "outputs": [
    {
     "data": {
      "text/plain": [
       "1.8903568156636853e+23"
      ]
     },
     "execution_count": 238,
     "metadata": {},
     "output_type": "execute_result"
    }
   ],
   "source": [
    "cv_cost"
   ]
  },
  {
   "cell_type": "markdown",
   "id": "reliable-parade",
   "metadata": {},
   "source": [
    "Como vemos en este modelo con las thetas que encontramos del polinomio de grado 3 y la prueba del costo con los datos de cross validation vemos que tenemos un costo bastante bajo y muy parecido al que encontramos en el training set. esto nos da un buen aproach a la capacidad de generalización que tiene nuestro modelo. Pero para comprobar esto haremos la misma prueba pero con el test set"
   ]
  },
  {
   "cell_type": "code",
   "execution_count": 239,
   "id": "conscious-proof",
   "metadata": {},
   "outputs": [],
   "source": [
    "test_train = linear_cost(X2_test, y2_test, theta2)"
   ]
  },
  {
   "cell_type": "code",
   "execution_count": 240,
   "id": "eligible-council",
   "metadata": {},
   "outputs": [
    {
     "data": {
      "text/plain": [
       "1.8829755065728597e+23"
      ]
     },
     "execution_count": 240,
     "metadata": {},
     "output_type": "execute_result"
    }
   ],
   "source": [
    "test_train"
   ]
  },
  {
   "cell_type": "markdown",
   "id": "contrary-patch",
   "metadata": {},
   "source": [
    "Como podemos ver en el resultado del test set el costo se mantiene de una manera bastante buena. Lo que nos índica que el polinomio de grado 3 con un alpha de regulariazción de 2 grados es un buen modelo para nuestra variable objetivo. Con una capacidad de regularización muy buena."
   ]
  },
  {
   "cell_type": "code",
   "execution_count": null,
   "id": "automatic-suffering",
   "metadata": {},
   "outputs": [],
   "source": []
  }
 ],
 "metadata": {
  "kernelspec": {
   "display_name": "Python 3",
   "language": "python",
   "name": "python3"
  },
  "language_info": {
   "codemirror_mode": {
    "name": "ipython",
    "version": 3
   },
   "file_extension": ".py",
   "mimetype": "text/x-python",
   "name": "python",
   "nbconvert_exporter": "python",
   "pygments_lexer": "ipython3",
   "version": "3.7.4"
  }
 },
 "nbformat": 4,
 "nbformat_minor": 5
}
