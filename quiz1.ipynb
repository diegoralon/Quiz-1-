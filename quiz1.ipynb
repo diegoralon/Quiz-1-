{
 "cells": [
  {
   "cell_type": "markdown",
   "id": "unknown-endorsement",
   "metadata": {},
   "source": [
    "## Transformaciones Inciales"
   ]
  },
  {
   "cell_type": "code",
   "execution_count": 5,
   "id": "mediterranean-assembly",
   "metadata": {
    "collapsed": true,
    "jupyter": {
     "outputs_hidden": true
    },
    "tags": []
   },
   "outputs": [
    {
     "name": "stdout",
     "output_type": "stream",
     "text": [
      "Requirement already satisfied: pandas in ./venv/lib/python3.7/site-packages (1.2.3)\n",
      "Requirement already satisfied: pytz>=2017.3 in ./venv/lib/python3.7/site-packages (from pandas) (2021.1)\n",
      "Requirement already satisfied: python-dateutil>=2.7.3 in ./venv/lib/python3.7/site-packages (from pandas) (2.8.1)\n",
      "Requirement already satisfied: numpy>=1.16.5 in ./venv/lib/python3.7/site-packages (from pandas) (1.20.1)\n",
      "Requirement already satisfied: six>=1.5 in ./venv/lib/python3.7/site-packages (from python-dateutil>=2.7.3->pandas) (1.15.0)\n",
      "Note: you may need to restart the kernel to use updated packages.\n"
     ]
    }
   ],
   "source": [
    "pip install pandas\n"
   ]
  },
  {
   "cell_type": "code",
   "execution_count": 4,
   "id": "instrumental-beverage",
   "metadata": {
    "collapsed": true,
    "jupyter": {
     "outputs_hidden": true
    },
    "tags": []
   },
   "outputs": [
    {
     "name": "stdout",
     "output_type": "stream",
     "text": [
      "Collecting matplotlib\n",
      "  Using cached matplotlib-3.3.4-cp37-cp37m-macosx_10_9_x86_64.whl (8.5 MB)\n",
      "Collecting kiwisolver>=1.0.1\n",
      "  Using cached kiwisolver-1.3.1-cp37-cp37m-macosx_10_9_x86_64.whl (61 kB)\n",
      "Requirement already satisfied: python-dateutil>=2.1 in ./venv/lib/python3.7/site-packages (from matplotlib) (2.8.1)\n",
      "Collecting cycler>=0.10\n",
      "  Using cached cycler-0.10.0-py2.py3-none-any.whl (6.5 kB)\n",
      "Collecting pillow>=6.2.0\n",
      "  Using cached Pillow-8.1.2-cp37-cp37m-macosx_10_10_x86_64.whl (2.2 MB)\n",
      "Requirement already satisfied: pyparsing!=2.0.4,!=2.1.2,!=2.1.6,>=2.0.3 in ./venv/lib/python3.7/site-packages (from matplotlib) (2.4.7)\n",
      "Requirement already satisfied: numpy>=1.15 in ./venv/lib/python3.7/site-packages (from matplotlib) (1.20.1)\n",
      "Requirement already satisfied: six in ./venv/lib/python3.7/site-packages (from cycler>=0.10->matplotlib) (1.15.0)\n",
      "Installing collected packages: pillow, kiwisolver, cycler, matplotlib\n",
      "Successfully installed cycler-0.10.0 kiwisolver-1.3.1 matplotlib-3.3.4 pillow-8.1.2\n",
      "Note: you may need to restart the kernel to use updated packages.\n"
     ]
    }
   ],
   "source": [
    "pip install matplotlib"
   ]
  },
  {
   "cell_type": "code",
   "execution_count": 6,
   "id": "proper-japanese",
   "metadata": {},
   "outputs": [],
   "source": [
    "import pandas as pd \n",
    "import numpy as np"
   ]
  },
  {
   "cell_type": "code",
   "execution_count": 7,
   "id": "capital-processing",
   "metadata": {},
   "outputs": [],
   "source": [
    "df = pd.read_csv('dat.csv')"
   ]
  },
  {
   "cell_type": "code",
   "execution_count": 8,
   "id": "leading-metadata",
   "metadata": {},
   "outputs": [
    {
     "data": {
      "text/html": [
       "<div>\n",
       "<style scoped>\n",
       "    .dataframe tbody tr th:only-of-type {\n",
       "        vertical-align: middle;\n",
       "    }\n",
       "\n",
       "    .dataframe tbody tr th {\n",
       "        vertical-align: top;\n",
       "    }\n",
       "\n",
       "    .dataframe thead th {\n",
       "        text-align: right;\n",
       "    }\n",
       "</style>\n",
       "<table border=\"1\" class=\"dataframe\">\n",
       "  <thead>\n",
       "    <tr style=\"text-align: right;\">\n",
       "      <th></th>\n",
       "      <th>0.9317189805776385</th>\n",
       "      <th>50.94283197947629</th>\n",
       "      <th>2596.040230347921</th>\n",
       "    </tr>\n",
       "  </thead>\n",
       "  <tbody>\n",
       "    <tr>\n",
       "      <th>0</th>\n",
       "      <td>0.796997</td>\n",
       "      <td>50.312938</td>\n",
       "      <td>2532.026902</td>\n",
       "    </tr>\n",
       "    <tr>\n",
       "      <th>1</th>\n",
       "      <td>1.115603</td>\n",
       "      <td>50.156194</td>\n",
       "      <td>2516.888332</td>\n",
       "    </tr>\n",
       "    <tr>\n",
       "      <th>2</th>\n",
       "      <td>1.064629</td>\n",
       "      <td>50.774814</td>\n",
       "      <td>2579.215190</td>\n",
       "    </tr>\n",
       "  </tbody>\n",
       "</table>\n",
       "</div>"
      ],
      "text/plain": [
       "   0.9317189805776385   50.94283197947629   2596.040230347921\n",
       "0            0.796997           50.312938         2532.026902\n",
       "1            1.115603           50.156194         2516.888332\n",
       "2            1.064629           50.774814         2579.215190"
      ]
     },
     "execution_count": 8,
     "metadata": {},
     "output_type": "execute_result"
    }
   ],
   "source": [
    "df.head(3)"
   ]
  },
  {
   "cell_type": "code",
   "execution_count": 10,
   "id": "terminal-trick",
   "metadata": {},
   "outputs": [
    {
     "data": {
      "text/plain": [
       "Index(['0.9317189805776385', ' 50.94283197947629', ' 2596.040230347921'], dtype='object')"
      ]
     },
     "execution_count": 10,
     "metadata": {},
     "output_type": "execute_result"
    }
   ],
   "source": [
    "df.columns"
   ]
  },
  {
   "cell_type": "code",
   "execution_count": 11,
   "id": "professional-disabled",
   "metadata": {},
   "outputs": [],
   "source": [
    "y = df[[' 2596.040230347921']].to_numpy()"
   ]
  },
  {
   "cell_type": "code",
   "execution_count": 12,
   "id": "former-tulsa",
   "metadata": {},
   "outputs": [],
   "source": [
    "df['cons'] = 1"
   ]
  },
  {
   "cell_type": "code",
   "execution_count": 13,
   "id": "worldwide-cambridge",
   "metadata": {},
   "outputs": [],
   "source": [
    "X = df[['cons','0.9317189805776385', ' 50.94283197947629']].to_numpy()"
   ]
  },
  {
   "cell_type": "code",
   "execution_count": 14,
   "id": "subject-hands",
   "metadata": {},
   "outputs": [
    {
     "name": "stdout",
     "output_type": "stream",
     "text": [
      "(159999, 1) (159999, 3)\n"
     ]
    }
   ],
   "source": [
    "print(y.shape,X.shape)"
   ]
  },
  {
   "cell_type": "markdown",
   "id": "tracked-galaxy",
   "metadata": {},
   "source": [
    "# Creando Funciones de Costo"
   ]
  },
  {
   "cell_type": "code",
   "execution_count": 15,
   "id": "strange-hamburg",
   "metadata": {},
   "outputs": [],
   "source": [
    "def linear_cost(X, y, theta): \n",
    "    h = X @ theta\n",
    "    return ((y-h)**2).sum() / (2 * len(X))"
   ]
  },
  {
   "cell_type": "code",
   "execution_count": 16,
   "id": "indoor-convention",
   "metadata": {},
   "outputs": [],
   "source": [
    "def linear_cost_gradient(X, y, theta): \n",
    "    h = X @ theta\n",
    "    return (X.T @ (h-y))/ len(X)"
   ]
  },
  {
   "cell_type": "code",
   "execution_count": 17,
   "id": "sunset-startup",
   "metadata": {},
   "outputs": [],
   "source": [
    "def gradient_descent(\n",
    "X,y,theta_0,linear_cost,linear_cost_gradient,\n",
    "    learning_rate = 0.0001, threshold=0.001, max_iter=10000): \n",
    "    \n",
    "    theta = theta_0\n",
    "    iteration = 0 \n",
    "    costs = []\n",
    "    thetas = []\n",
    "    \n",
    "    while np.linalg.norm(linear_cost_gradient(X,y,theta)) > threshold and iteration < max_iter:\n",
    "        iteration += 1 \n",
    "        theta = theta - (learning_rate * linear_cost_gradient(X,y,theta))\n",
    "        costs.append(linear_cost(X,y,theta))\n",
    "        thetas.append(theta.copy())\n",
    "        \n",
    "    return theta, costs, thetas"
   ]
  },
  {
   "cell_type": "markdown",
   "id": "spanish-romance",
   "metadata": {},
   "source": [
    "## Thetas iniciales"
   ]
  },
  {
   "cell_type": "code",
   "execution_count": 18,
   "id": "amazing-minute",
   "metadata": {},
   "outputs": [],
   "source": [
    "m, n = X.shape"
   ]
  },
  {
   "cell_type": "code",
   "execution_count": 19,
   "id": "signal-snapshot",
   "metadata": {},
   "outputs": [],
   "source": [
    "theta_0 = np.random.rand(n,1)"
   ]
  },
  {
   "cell_type": "code",
   "execution_count": 20,
   "id": "natural-drinking",
   "metadata": {},
   "outputs": [
    {
     "name": "stdout",
     "output_type": "stream",
     "text": [
      "(3, 1)\n"
     ]
    }
   ],
   "source": [
    "print(theta_0.shape)"
   ]
  },
  {
   "cell_type": "markdown",
   "id": "favorite-china",
   "metadata": {},
   "source": [
    "## Shuffle Inicial "
   ]
  },
  {
   "cell_type": "code",
   "execution_count": 21,
   "id": "quick-reservoir",
   "metadata": {},
   "outputs": [],
   "source": [
    "np.random.shuffle(X)"
   ]
  },
  {
   "cell_type": "code",
   "execution_count": 22,
   "id": "english-problem",
   "metadata": {},
   "outputs": [],
   "source": [
    "np.random.shuffle(y)"
   ]
  },
  {
   "cell_type": "code",
   "execution_count": 26,
   "id": "pregnant-fusion",
   "metadata": {},
   "outputs": [],
   "source": [
    "X_train = X[:96000]\n",
    "X_cv = X[96001:128000]\n",
    "X_test = X[128001:159999]"
   ]
  },
  {
   "cell_type": "code",
   "execution_count": 27,
   "id": "efficient-couple",
   "metadata": {},
   "outputs": [
    {
     "name": "stdout",
     "output_type": "stream",
     "text": [
      "(96000, 3) (31999, 3) (31998, 3)\n"
     ]
    }
   ],
   "source": [
    "print(X_train.shape,X_cv.shape,X_test.shape)"
   ]
  },
  {
   "cell_type": "code",
   "execution_count": 28,
   "id": "presidential-bobby",
   "metadata": {},
   "outputs": [],
   "source": [
    "y_train = y[:96000]\n",
    "y_cv = y[96001:128000]\n",
    "y_test = y[128001:159999]"
   ]
  },
  {
   "cell_type": "code",
   "execution_count": 29,
   "id": "satisfactory-password",
   "metadata": {},
   "outputs": [
    {
     "name": "stdout",
     "output_type": "stream",
     "text": [
      "(96000, 1) (31999, 1) (31998, 1)\n"
     ]
    }
   ],
   "source": [
    "print(y_train.shape,y_cv.shape,y_test.shape)"
   ]
  },
  {
   "cell_type": "markdown",
   "id": "postal-lindsay",
   "metadata": {},
   "source": [
    "# Corriendo regresión Polinomio Grado 1"
   ]
  },
  {
   "cell_type": "code",
   "execution_count": 38,
   "id": "intermediate-favor",
   "metadata": {},
   "outputs": [],
   "source": [
    "theta, costs, thetas = gradient_descent(X_train,y_train,theta_0,linear_cost,linear_cost_gradient,0.0001,10,10000)"
   ]
  },
  {
   "cell_type": "code",
   "execution_count": 39,
   "id": "affiliated-listening",
   "metadata": {},
   "outputs": [
    {
     "data": {
      "text/plain": [
       "10000"
      ]
     },
     "execution_count": 39,
     "metadata": {},
     "output_type": "execute_result"
    }
   ],
   "source": [
    "len(costs)"
   ]
  },
  {
   "cell_type": "code",
   "execution_count": 40,
   "id": "italian-robin",
   "metadata": {},
   "outputs": [
    {
     "name": "stdout",
     "output_type": "stream",
     "text": [
      "1.1258339614165777e+63\n"
     ]
    }
   ],
   "source": [
    "print(costs[len(costs)-1])"
   ]
  },
  {
   "cell_type": "markdown",
   "id": "breeding-pension",
   "metadata": {},
   "source": [
    "El costo es muy pequeño en esta regresión pero comprobaremos con una regresión grado 3 en base a nuestra primera fila"
   ]
  },
  {
   "cell_type": "markdown",
   "id": "decimal-canvas",
   "metadata": {},
   "source": [
    "## Corriendo regresión Polinomio Grado 3"
   ]
  },
  {
   "cell_type": "code",
   "execution_count": 41,
   "id": "allied-henry",
   "metadata": {},
   "outputs": [],
   "source": [
    "df['0.9317189805776385'] = df['0.9317189805776385'] ** 2\n",
    "df['0.9317189805776385'] = df['0.9317189805776385'] ** 3"
   ]
  },
  {
   "cell_type": "code",
   "execution_count": null,
   "id": "comic-lotus",
   "metadata": {},
   "outputs": [],
   "source": []
  }
 ],
 "metadata": {
  "kernelspec": {
   "display_name": "Python 3",
   "language": "python",
   "name": "python3"
  },
  "language_info": {
   "codemirror_mode": {
    "name": "ipython",
    "version": 3
   },
   "file_extension": ".py",
   "mimetype": "text/x-python",
   "name": "python",
   "nbconvert_exporter": "python",
   "pygments_lexer": "ipython3",
   "version": "3.7.4"
  }
 },
 "nbformat": 4,
 "nbformat_minor": 5
}
